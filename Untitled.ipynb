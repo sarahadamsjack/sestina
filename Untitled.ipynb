{
 "cells": [
  {
   "cell_type": "code",
   "execution_count": null,
   "metadata": {},
   "outputs": [],
   "source": [
    "## Write a helper function which replace pd.dummy()\n",
    "\n",
    "input = {\n",
    "\tKevin: Chinese\n",
    "  Juan: Mexican\n",
    "  Sarah: Japaness\n",
    "}\n",
    "\n",
    "output_df = \n",
    "\t\t\tChinese, Mexican, Japaness\n",
    "Kevin, 1, 0, 0\n",
    "Juan,  0, 1, 0\n",
    "Sarah, 0, 0, 1\n",
    "\n",
    "\n",
    "input = {\n",
    "\tKevin: Chinese\n",
    "  Juan: Mexican\n",
    "  Sarah: Japaness\n",
    "  Jessie: Mexican\n",
    "}\n",
    "\n",
    "\t\t\tChinese, Mexican, Japaness\n",
    "Kevin, 1, 0, 0\n",
    "Juan,  0, 1, 0\n",
    "Sarah, 0, 0, 1\n",
    "Jessie, 0, 1, 0\n",
    "\n",
    "col_food = {}\n",
    "row_names = []\n",
    "index_label = []\n",
    "df = dataframe(col_food, row_names, index=row_label)\n",
    "\n",
    "\n",
    "food = input\n",
    "dataframe(columns=food)\n",
    "\n",
    "df = "
   ]
  },
  {
   "cell_type": "code",
   "execution_count": 7,
   "metadata": {},
   "outputs": [
    {
     "ename": "TypeError",
     "evalue": "__init__() got multiple values for argument 'index'",
     "output_type": "error",
     "traceback": [
      "\u001b[0;31m---------------------------------------------------------------------------\u001b[0m",
      "\u001b[0;31mTypeError\u001b[0m                                 Traceback (most recent call last)",
      "\u001b[0;32m<ipython-input-7-3fee00e79c82>\u001b[0m in \u001b[0;36m<module>\u001b[0;34m\u001b[0m\n\u001b[1;32m      6\u001b[0m \u001b[0mrow_label\u001b[0m \u001b[0;34m=\u001b[0m \u001b[0;34m[\u001b[0m\u001b[0;34m]\u001b[0m\u001b[0;34m\u001b[0m\u001b[0;34m\u001b[0m\u001b[0m\n\u001b[1;32m      7\u001b[0m \u001b[0mindex_label\u001b[0m \u001b[0;34m=\u001b[0m \u001b[0;34m[\u001b[0m\u001b[0;34m]\u001b[0m\u001b[0;34m\u001b[0m\u001b[0;34m\u001b[0m\u001b[0m\n\u001b[0;32m----> 8\u001b[0;31m \u001b[0mdf\u001b[0m \u001b[0;34m=\u001b[0m \u001b[0mpd\u001b[0m\u001b[0;34m.\u001b[0m\u001b[0mDataFrame\u001b[0m\u001b[0;34m(\u001b[0m\u001b[0mcol_food\u001b[0m\u001b[0;34m,\u001b[0m \u001b[0mrow_names\u001b[0m\u001b[0;34m,\u001b[0m \u001b[0mindex\u001b[0m\u001b[0;34m=\u001b[0m\u001b[0mrow_label\u001b[0m\u001b[0;34m)\u001b[0m\u001b[0;34m\u001b[0m\u001b[0;34m\u001b[0m\u001b[0m\n\u001b[0m",
      "\u001b[0;31mTypeError\u001b[0m: __init__() got multiple values for argument 'index'"
     ]
    }
   ],
   "source": [
    "## Write a helper function which replace pd.dummy()\n",
    "import pandas as pd\n",
    "dictionary = {'Kevin': 'Chinese', 'Juan': 'Mexican','Sarah':'Japanesse'}\n",
    "\n",
    "col_food = {}\n",
    "row_label = []\n",
    "index_label = []\n",
    "df = pd.DataFrame(col_food, row_label, index=index_label)\n"
   ]
  },
  {
   "cell_type": "code",
   "execution_count": 9,
   "metadata": {},
   "outputs": [],
   "source": [
    "df = pd.DataFrame()"
   ]
  },
  {
   "cell_type": "code",
   "execution_count": null,
   "metadata": {},
   "outputs": [],
   "source": [
    "df['food_col']"
   ]
  }
 ],
 "metadata": {
  "kernelspec": {
   "display_name": "Python (learn-env)",
   "language": "python",
   "name": "learn-env"
  },
  "language_info": {
   "codemirror_mode": {
    "name": "ipython",
    "version": 3
   },
   "file_extension": ".py",
   "mimetype": "text/x-python",
   "name": "python",
   "nbconvert_exporter": "python",
   "pygments_lexer": "ipython3",
   "version": "3.8.5"
  }
 },
 "nbformat": 4,
 "nbformat_minor": 4
}
